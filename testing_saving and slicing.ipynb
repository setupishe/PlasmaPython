{
 "cells": [
  {
   "cell_type": "code",
   "execution_count": 6,
   "metadata": {},
   "outputs": [],
   "source": [
    "from plasma_classes import *\n",
    "from plasma_utils import *\n",
    "from matplotlib import pyplot as plt\n",
    "from matplotlib import animation\n",
    "from tqdm import tqdm"
   ]
  },
  {
   "cell_type": "code",
   "execution_count": 7,
   "metadata": {},
   "outputs": [],
   "source": [
    "particles = Particles(10, 1.0, -1.0, 1.0)\n",
    "particles.x = np.arange(10)\n",
    "particles.v = np.arange(10)"
   ]
  },
  {
   "cell_type": "code",
   "execution_count": 8,
   "metadata": {},
   "outputs": [],
   "source": [
    "def bar(particles):\n",
    "    print(particles.n_macro)\n",
    "    particles.x = 0"
   ]
  },
  {
   "cell_type": "code",
   "execution_count": 9,
   "metadata": {},
   "outputs": [
    {
     "name": "stdout",
     "output_type": "stream",
     "text": [
      "2\n"
     ]
    }
   ],
   "source": [
    "bar(particles[2:4])"
   ]
  },
  {
   "cell_type": "code",
   "execution_count": 10,
   "metadata": {},
   "outputs": [
    {
     "data": {
      "text/plain": [
       "array([0, 1, 2, 3, 4, 5, 6, 7, 8, 9])"
      ]
     },
     "execution_count": 10,
     "metadata": {},
     "output_type": "execute_result"
    }
   ],
   "source": [
    "particles.x"
   ]
  },
  {
   "cell_type": "code",
   "execution_count": 3,
   "metadata": {},
   "outputs": [],
   "source": [
    "def foo(particles):\n",
    "    mask = particles.x < 4\n",
    "    particles.delete(mask)"
   ]
  },
  {
   "cell_type": "code",
   "execution_count": 4,
   "metadata": {},
   "outputs": [],
   "source": [
    "foo(particles)"
   ]
  },
  {
   "cell_type": "code",
   "execution_count": 5,
   "metadata": {},
   "outputs": [
    {
     "data": {
      "text/plain": [
       "array([4, 5, 6, 7, 8, 9])"
      ]
     },
     "execution_count": 5,
     "metadata": {},
     "output_type": "execute_result"
    }
   ],
   "source": [
    "particles.x"
   ]
  },
  {
   "cell_type": "code",
   "execution_count": 15,
   "metadata": {},
   "outputs": [],
   "source": [
    "mask = particles.x < 4"
   ]
  },
  {
   "cell_type": "code",
   "execution_count": 16,
   "metadata": {},
   "outputs": [
    {
     "data": {
      "text/plain": [
       "array([ True,  True,  True,  True, False, False, False, False, False,\n",
       "       False])"
      ]
     },
     "execution_count": 16,
     "metadata": {},
     "output_type": "execute_result"
    }
   ],
   "source": [
    "mask"
   ]
  },
  {
   "cell_type": "code",
   "execution_count": 17,
   "metadata": {},
   "outputs": [],
   "source": [
    "particles = particles[mask]"
   ]
  },
  {
   "cell_type": "code",
   "execution_count": 18,
   "metadata": {},
   "outputs": [
    {
     "data": {
      "text/plain": [
       "array([0, 1, 2, 3])"
      ]
     },
     "execution_count": 18,
     "metadata": {},
     "output_type": "execute_result"
    }
   ],
   "source": [
    "particles.x"
   ]
  },
  {
   "cell_type": "code",
   "execution_count": 2,
   "metadata": {},
   "outputs": [
    {
     "name": "stdout",
     "output_type": "stream",
     "text": [
      "Elapsed time:  0.5579440593719482  seconds\n"
     ]
    }
   ],
   "source": [
    "import time\n",
    "\n",
    "# Create 10 million particles\n",
    "particles = Particles(10000000, 1.0, -1.0, 1.0)\n",
    "\n",
    "# Modify individual particle velocities one at a time\n",
    "start_time = time.time()\n",
    "for i in range(5000000):\n",
    "    particles.v[i] += 0.1\n",
    "end_time = time.time()\n",
    "\n",
    "print(\"Elapsed time: \", end_time - start_time, \" seconds\")"
   ]
  },
  {
   "cell_type": "code",
   "execution_count": 3,
   "metadata": {},
   "outputs": [],
   "source": [
    "slice1 = particles[3:5000000]"
   ]
  },
  {
   "cell_type": "code",
   "execution_count": 4,
   "metadata": {},
   "outputs": [
    {
     "name": "stdout",
     "output_type": "stream",
     "text": [
      "Elapsed time:  0.0  seconds\n"
     ]
    }
   ],
   "source": [
    "# Modify individual particle velocities one at a time\n",
    "start_time = time.time()\n",
    "for i in range(3000):\n",
    "    slice1.v[i] += 1000\n",
    "end_time = time.time()\n",
    "\n",
    "print(\"Elapsed time: \", end_time - start_time, \" seconds\")"
   ]
  },
  {
   "cell_type": "code",
   "execution_count": 5,
   "metadata": {},
   "outputs": [
    {
     "name": "stdout",
     "output_type": "stream",
     "text": [
      "Boolean index operation took 0.0009968280792236328 seconds\n",
      "By-hand creation of new array with the same mask took 0.0009965896606445312 seconds\n"
     ]
    }
   ],
   "source": [
    "import numpy as np\n",
    "import time\n",
    "\n",
    "# Set up the particles array\n",
    "n_particles = 100000\n",
    "x = np.random.uniform(low=-1, high=1, size=n_particles)\n",
    "v = np.random.normal(loc=0, scale=1, size=n_particles)\n",
    "particles = Particles(n_particles, 1.0, 1.0, 1.0)\n",
    "particles.x = x\n",
    "particles.v = v\n",
    "\n",
    "# Create a boolean mask\n",
    "mask = np.random.choice([True, False], size=n_particles)\n",
    "\n",
    "# Test the boolean index operation\n",
    "t1 = time.time()\n",
    "sub_particles = particles[mask]\n",
    "t2 = time.time()\n",
    "print(f\"Boolean index operation took {t2-t1} seconds\")\n",
    "\n",
    "# Test the by-hand creation of new array with the same mask\n",
    "t3 = time.time()\n",
    "sub_particles = Particles(np.count_nonzero(mask), particles.concentration, particles.q, particles.m)\n",
    "sub_particles.x = particles.x[mask]\n",
    "sub_particles.v = particles.v[mask]\n",
    "t4 = time.time()\n",
    "print(f\"By-hand creation of new array with the same mask took {t4-t3} seconds\")\n"
   ]
  },
  {
   "cell_type": "code",
   "execution_count": 6,
   "metadata": {},
   "outputs": [],
   "source": [
    "# create original particles object\n",
    "original_particles = Particles(10, 1.0, 1.0, 1.0)\n",
    "original_particles.x = np.random.rand(10)\n",
    "\n",
    "# make a deep copy of the original particles object\n",
    "copy_particles = original_particles.deepcopy()\n",
    "\n",
    "# modify the copy\n",
    "copy_particles.x[0] = 0.0\n",
    "\n",
    "# check that the original particles object is not modified\n",
    "assert np.allclose(original_particles.x[0], 0.0) == False\n"
   ]
  },
  {
   "cell_type": "code",
   "execution_count": 7,
   "metadata": {},
   "outputs": [
    {
     "data": {
      "text/plain": [
       "array([0.92823824, 0.76024596, 0.53362671, 0.0998817 , 0.07057969,\n",
       "       0.72800722, 0.4734317 , 0.77427962, 0.16064182, 0.1847532 ])"
      ]
     },
     "execution_count": 7,
     "metadata": {},
     "output_type": "execute_result"
    }
   ],
   "source": [
    "original_particles.x"
   ]
  },
  {
   "cell_type": "code",
   "execution_count": 8,
   "metadata": {},
   "outputs": [
    {
     "data": {
      "text/plain": [
       "array([5336.26709348,  998.8169768 ,  705.79688562, 7280.07222921,\n",
       "       4734.31700472])"
      ]
     },
     "execution_count": 8,
     "metadata": {},
     "output_type": "execute_result"
    }
   ],
   "source": [
    "sl = original_particles[2:7].deepcopy()\n",
    "sl.x *= 10000\n",
    "sl.x"
   ]
  },
  {
   "cell_type": "code",
   "execution_count": 9,
   "metadata": {},
   "outputs": [
    {
     "data": {
      "text/plain": [
       "array([0.92823824, 0.76024596, 0.53362671, 0.0998817 , 0.07057969,\n",
       "       0.72800722, 0.4734317 , 0.77427962, 0.16064182, 0.1847532 ])"
      ]
     },
     "execution_count": 9,
     "metadata": {},
     "output_type": "execute_result"
    }
   ],
   "source": [
    "original_particles.x"
   ]
  },
  {
   "cell_type": "code",
   "execution_count": 7,
   "metadata": {},
   "outputs": [
    {
     "data": {
      "text/plain": [
       "array([2000.1, 2000.1, 2000.1, ...,    0. ,    0. ,    0. ])"
      ]
     },
     "execution_count": 7,
     "metadata": {},
     "output_type": "execute_result"
    }
   ],
   "source": [
    "particles.v[3:]"
   ]
  },
  {
   "cell_type": "code",
   "execution_count": 42,
   "metadata": {},
   "outputs": [],
   "source": [
    "slice6 = particles[3456 :5000000]"
   ]
  },
  {
   "cell_type": "code",
   "execution_count": 43,
   "metadata": {},
   "outputs": [
    {
     "name": "stdout",
     "output_type": "stream",
     "text": [
      "Elapsed time:  0.6053729057312012  seconds\n"
     ]
    }
   ],
   "source": [
    "# Modify individual particle velocities one at a time\n",
    "start_time = time.time()\n",
    "for i in range(5000000):\n",
    "    slice1.v[i] -= 2000\n",
    "end_time = time.time()\n",
    "\n",
    "print(\"Elapsed time: \", end_time - start_time, \" seconds\")"
   ]
  },
  {
   "cell_type": "code",
   "execution_count": 44,
   "metadata": {},
   "outputs": [
    {
     "data": {
      "text/plain": [
       "array([-999.9, -999.9, -999.9, ...,    0. ,    0. ,    0. ])"
      ]
     },
     "execution_count": 44,
     "metadata": {},
     "output_type": "execute_result"
    }
   ],
   "source": [
    "particles.v"
   ]
  },
  {
   "cell_type": "code",
   "execution_count": 45,
   "metadata": {},
   "outputs": [],
   "source": [
    "slc = particles[:20]"
   ]
  },
  {
   "cell_type": "code",
   "execution_count": 46,
   "metadata": {},
   "outputs": [
    {
     "data": {
      "text/plain": [
       "array([0., 0., 0., 0., 0., 0., 0., 0., 0., 0., 0., 0., 0., 0., 0., 0., 0.,\n",
       "       0., 0., 0.])"
      ]
     },
     "execution_count": 46,
     "metadata": {},
     "output_type": "execute_result"
    }
   ],
   "source": [
    "slc.x"
   ]
  },
  {
   "cell_type": "code",
   "execution_count": 48,
   "metadata": {},
   "outputs": [
    {
     "ename": "ValueError",
     "evalue": "could not broadcast input array from shape (0,) into shape (20,)",
     "output_type": "error",
     "traceback": [
      "\u001b[1;31m---------------------------------------------------------------------------\u001b[0m",
      "\u001b[1;31mValueError\u001b[0m                                Traceback (most recent call last)",
      "Cell \u001b[1;32mIn[48], line 1\u001b[0m\n\u001b[1;32m----> 1\u001b[0m particles\u001b[39m.\u001b[39;49mx[:\u001b[39m20\u001b[39;49m] \u001b[39m=\u001b[39m []\n\u001b[0;32m      2\u001b[0m slc\u001b[39m.\u001b[39mx\n",
      "\u001b[1;31mValueError\u001b[0m: could not broadcast input array from shape (0,) into shape (20,)"
     ]
    }
   ],
   "source": [
    "particles.x[:20] = []\n",
    "slc.x"
   ]
  },
  {
   "cell_type": "code",
   "execution_count": 29,
   "metadata": {},
   "outputs": [],
   "source": [
    "# Create a Particles object with 100 particles\n",
    "particles = Particles(100, 1.0, -1.0, 1.0)\n",
    "\n",
    "# Select a slice of the particles\n",
    "sliced_particles = particles[10:30]\n",
    "\n",
    "# Double the speed of the sliced particles\n",
    "sliced_particles.v *= 2.0\n",
    "\n",
    "\n",
    "# Verify that the parent Particles object was updated\n",
    "assert np.allclose(particles.v[10:30], sliced_particles.v)\n"
   ]
  },
  {
   "cell_type": "code",
   "execution_count": 3,
   "metadata": {},
   "outputs": [],
   "source": [
    "import numpy as np\n",
    "import os\n",
    "\n",
    "# Create instances of each class for testing\n",
    "particles = Particles(100, 1.0, 1.0, 1.0)\n",
    "particles.x = np.random.rand(100)\n",
    "particles.v = np.random.rand(100)\n",
    "nodes = Nodes(10)\n",
    "nodes.rho = np.random.rand(11)\n",
    "nodes.E = np.random.rand(11)\n",
    "nodes.phi = np.random.rand(11)\n",
    "wall = Wall(0, 1, 10, 0.1, 'left')\n",
    "particle1 = Particles(10, 0.5, 1.5, 1.0)\n",
    "particle1.x = np.random.rand(10)\n",
    "particle1.v = np.random.rand(10)\n",
    "particle2 = Particles(5, 0.5, 1.5, 1.0)\n",
    "particle2.x = np.random.rand(5)\n",
    "particle2.v = np.random.rand(5)\n",
    "wall.particles_lst = [particle1, particle2]\n",
    "\n",
    "# Test saving and loading of Particles objects\n",
    "particles_path = 'particles.pkl'\n",
    "save_to_file(particles, particles_path)\n",
    "loaded_particles = load_from_file(particles_path)\n",
    "assert isinstance(loaded_particles, Particles)\n",
    "assert loaded_particles.n_macro == particles.n_macro\n",
    "assert loaded_particles.concentration == particles.concentration\n",
    "assert np.allclose(loaded_particles.x, particles.x)\n",
    "assert np.allclose(loaded_particles.v, particles.v)\n",
    "\n",
    "# Test saving and loading of Nodes objects\n",
    "nodes_path = 'nodes.pkl'\n",
    "save_to_file(nodes, nodes_path)\n",
    "loaded_nodes = load_from_file(nodes_path)\n",
    "assert isinstance(loaded_nodes, Nodes)\n",
    "assert loaded_nodes.length == nodes.length\n",
    "assert np.allclose(loaded_nodes.rho, nodes.rho)\n",
    "assert np.allclose(loaded_nodes.E, nodes.E)\n",
    "assert np.allclose(loaded_nodes.phi, nodes.phi)\n",
    "\n",
    "# Test saving and loading of Wall objects\n",
    "wall_path = 'wall.pkl'\n",
    "save_to_file(wall, wall_path)\n",
    "loaded_wall = load_from_file(wall_path)\n",
    "assert isinstance(loaded_wall, Wall)\n",
    "assert loaded_wall.left == wall.left\n",
    "assert loaded_wall.right == wall.right\n",
    "assert loaded_wall.number == wall.number\n",
    "assert loaded_wall.h == wall.h\n",
    "assert loaded_wall.side == wall.side\n",
    "assert len(loaded_wall.particles_lst) == len(wall.particles_lst)\n",
    "assert isinstance(loaded_wall.particles_lst[0], Particles)\n",
    "assert loaded_wall.particles_lst[0].n_macro == particle1.n_macro\n",
    "assert loaded_wall.particles_lst[0].concentration == particle1.concentration\n",
    "assert loaded_wall.particles_lst[0].q == particle1.q\n",
    "assert loaded_wall.particles_lst[0].m == particle1.m\n",
    "assert np.allclose(loaded_wall.particles_lst[0].x, particle1.x)\n",
    "assert np.allclose(loaded_wall.particles_lst[0].v, particle1.v)\n",
    "assert isinstance(loaded_wall.particles_lst[1], Particles)\n",
    "assert loaded_wall.particles_lst[1].n_macro == particle2.n_macro\n",
    "assert loaded_wall.particles_lst[1].concentration == particle2.concentration\n",
    "assert loaded_wall.particles_lst[1].q == particle2.q\n",
    "assert loaded_wall.particles_lst[1].m == particle2.m\n",
    "assert np.allclose(loaded_wall.particles_lst[1].x, particle2.x)\n",
    "assert np.allclose(loaded_wall.particles_lst[1].v, particle2.v)\n",
    "\n",
    "# Clean up the test files\n",
    "os.remove(particles_path)\n",
    "os.remove(nodes_path)\n",
    "os.remove(wall_path)\n"
   ]
  },
  {
   "cell_type": "code",
   "execution_count": null,
   "metadata": {},
   "outputs": [],
   "source": []
  }
 ],
 "metadata": {
  "kernelspec": {
   "display_name": ".venv",
   "language": "python",
   "name": "python3"
  },
  "language_info": {
   "codemirror_mode": {
    "name": "ipython",
    "version": 3
   },
   "file_extension": ".py",
   "mimetype": "text/x-python",
   "name": "python",
   "nbconvert_exporter": "python",
   "pygments_lexer": "ipython3",
   "version": "3.9.0"
  },
  "orig_nbformat": 4
 },
 "nbformat": 4,
 "nbformat_minor": 2
}
