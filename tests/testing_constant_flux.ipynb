{
 "cells": [
  {
   "cell_type": "code",
   "execution_count": 34,
   "metadata": {},
   "outputs": [],
   "source": [
    "import fix_sys_path\n",
    "from plasma_classes import *\n",
    "from plasma_utils import *\n",
    "import numpy as np\n",
    "from matplotlib import pyplot as plt\n",
    "from tqdm import tqdm"
   ]
  },
  {
   "cell_type": "code",
   "execution_count": 35,
   "metadata": {},
   "outputs": [
    {
     "data": {
      "image/png": "[encoded data removed]",
      "text/plain": [
       "<Figure size 2500x100 with 1 Axes>"
      ]
     },
     "metadata": {},
     "output_type": "display_data"
    }
   ],
   "source": [
    "L = 1e-2\n",
    "N_x = 200\n",
    "N_p = 5000\n",
    "h = L/N_x\n",
    "tau = 2e-13\n",
    "n0 = 1e17\n",
    "n1 = n0*N_x/N_p\n",
    "q = 1.60217e-19\n",
    "m_e = 9.1093837e-31\n",
    "m_i = 1.672e-27#*131\n",
    "epsilon = 8.85e-12\n",
    "eV = 11600\n",
    "E1_factor = 1.60218e-19\n",
    "E1 = 18.3*E1_factor\n",
    "alpha = 0.62\n",
    "T_e = eV*20\n",
    "T_i = 600\n",
    "k_b = 1.38e-23\n",
    "v_t_e = math.sqrt(3*k_b*T_e/m_e)\n",
    "vmin_e = -3*v_t_e\n",
    "vmax_e = 3*v_t_e\n",
    "v_t_i = math.sqrt(3*k_b*T_i/m_i)\n",
    "vmin_i = -3*v_t_i\n",
    "vmax_i = 3*v_t_i\n",
    "r_d = math.sqrt(epsilon * k_b * T_e / (q * q * n0));\n",
    "r_d\n",
    "h\n",
    "ions = Particles(N_p, n1, q, m_i)\n",
    "electrons = Particles(N_p, n1, -q, m_e)\n",
    "nodes = Nodes(N_x)\n",
    "left_wall = Wall(0, L/10, 0, h, \"left\")\n",
    "right_wall = Wall(9*L/10, L, 0, h, \"right\")\n",
    "set_homogeneous(electrons, 0, L)\n",
    "set_homogeneous(ions, 0, L)\n",
    "fig, ax = plt.subplots(1, 1)\n",
    "ax.scatter(electrons.x, np.zeros(electrons.x.shape))\n",
    "ax.scatter(ions.x, np.ones(ions.x.shape))\n",
    "fig.set_size_inches((25, 1))\n",
    "electrons.normalise(h, tau)\n",
    "ions.normalise(h, tau)\n",
    "e_integral = get_integral(Maxwell(T_e, k_b, m_e), vmin_e, vmax_e, 100000)\n",
    "i_integral = get_integral(Maxwell(T_i, k_b, m_i), vmin_i, vmax_i, 100000)"
   ]
  },
  {
   "cell_type": "code",
   "execution_count": null,
   "metadata": {},
   "outputs": [],
   "source": [
    "def range_mask(particles, n_range, nodes=None):\n",
    "    \"\"\"\n",
    "    generates boolean mask for particles in range\n",
    "    args:\n",
    "    particles : sets of macroparticles\n",
    "    n_range = neutral range\n",
    "    nodes: spatial grid of nodes\n",
    "    \"\"\"\n",
    "\n",
    "    mask = (particles.x >= n_range[0]) & (particles.x <= n_range[1])\n",
    "    return mask\n",
    "\n",
    "def range_coordinates(n_range, mask):\n",
    "    \"\"\"\n",
    "    generates random coordinates range\n",
    "    args:\n",
    "    particles : sets of macroparticles\n",
    "    n_range = neutral range\n",
    "    \"\"\"\n",
    "    center = (n_range[1] + n_range[0])/2\n",
    "    base = (n_range[1] - n_range[0])/2\n",
    "    shift = base*(2*np.random.rand(np.sum(mask)) - 1)\n",
    "    coordinates = center + shift\n",
    "    return coordinates"
   ]
  },
  {
   "cell_type": "code",
   "execution_count": 36,
   "metadata": {},
   "outputs": [],
   "source": [
    "def constant_flux(particles, N, integral, h, tau, n_range):\n",
    "    mask = range_mask(particles, n_range)\n",
    "    slc = particles[mask]\n",
    "    if slc.n_macro < N:\n",
    "        new_particles = (N - slc.n_macro, particles.q, particles.m)\n",
    "        new_particles.normalised = particles.normalised\n",
    "        new_particles.x = range_coordinates(n_range, mask)\n",
    "        set_distr(new_particles, integral, h, tau)\n",
    "        particles.add(new_particles)"
   ]
  },
  {
   "cell_type": "code",
   "execution_count": 38,
   "metadata": {},
   "outputs": [],
   "source": [
    "n_range = (50, 150)"
   ]
  },
  {
   "cell_type": "code",
   "execution_count": 39,
   "metadata": {},
   "outputs": [],
   "source": [
    "mask, coordinate = generate_range(electrons, n_range, nodes)"
   ]
  },
  {
   "cell_type": "code",
   "execution_count": 40,
   "metadata": {},
   "outputs": [
    {
     "data": {
      "text/plain": [
       "2500"
      ]
     },
     "execution_count": 40,
     "metadata": {},
     "output_type": "execute_result"
    }
   ],
   "source": [
    "np.sum(mask)"
   ]
  },
  {
   "cell_type": "code",
   "execution_count": 42,
   "metadata": {},
   "outputs": [
    {
     "data": {
      "text/plain": [
       "(array([243., 241., 250., 264., 240., 266., 222., 254., 256., 264.]),\n",
       " array([ 50.01453691,  60.01255617,  70.01057542,  80.00859468,\n",
       "         90.00661393, 100.00463319, 110.00265244, 120.0006717 ,\n",
       "        129.99869095, 139.99671021, 149.99472947]),\n",
       " <BarContainer object of 10 artists>)"
      ]
     },
     "execution_count": 42,
     "metadata": {},
     "output_type": "execute_result"
    },
    {
     "data": {
      "image/png": "[encoded data removed]",
      "text/plain": [
       "<Figure size 640x480 with 1 Axes>"
      ]
     },
     "metadata": {},
     "output_type": "display_data"
    }
   ],
   "source": [
    "plt.hist(coordinate)"
   ]
  }
 ],
 "metadata": {
  "kernelspec": {
   "display_name": ".venv",
   "language": "python",
   "name": "python3"
  },
  "language_info": {
   "codemirror_mode": {
    "name": "ipython",
    "version": 3
   },
   "file_extension": ".py",
   "mimetype": "text/x-python",
   "name": "python",
   "nbconvert_exporter": "python",
   "pygments_lexer": "ipython3",
   "version": "3.10.0"
  },
  "orig_nbformat": 4
 },
 "nbformat": 4,
 "nbformat_minor": 2
}
