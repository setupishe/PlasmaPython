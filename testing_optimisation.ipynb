{
 "cells": [
  {
   "cell_type": "code",
   "execution_count": 1,
   "metadata": {},
   "outputs": [],
   "source": [
    "from plasma_classes import *\n",
    "from plasma_utils import *\n",
    "import numpy as np\n",
    "from matplotlib import pyplot as plt"
   ]
  },
  {
   "cell_type": "code",
   "execution_count": 2,
   "metadata": {},
   "outputs": [],
   "source": [
    "L = 0.01\n",
    "N_x = 100\n",
    "N_p = 10000\n",
    "h = L/N_x\n",
    "nodes_grid = np.linspace(0, L, N_x + 1)\n",
    "particles_grid = np.linspace(0, L, N_p + 1)\n",
    "n0 = 1e17\n",
    "n1 = n0*N_x/N_p\n",
    "q = 1.60217e-19\n",
    "m = 9.1093837e-31\n",
    "epsilon = 8.85e-12\n",
    "particles = Particles(N_p, n1, -q, m)\n",
    "nodes = Nodes(N_x)\n",
    "particles.x = (np.sin(particles_grid*1000)*L)/2+L/2\n",
    "particles.normalise(h, 1)"
   ]
  },
  {
   "cell_type": "code",
   "execution_count": 3,
   "metadata": {},
   "outputs": [],
   "source": [
    "for i in range(1000):\n",
    "    get_rho(nodes, particles)"
   ]
  },
  {
   "cell_type": "code",
   "execution_count": 4,
   "metadata": {},
   "outputs": [],
   "source": [
    "for i in range(1000):\n",
    "    get_rho_opt(nodes, particles)"
   ]
  },
  {
   "cell_type": "code",
   "execution_count": null,
   "metadata": {},
   "outputs": [],
   "source": [
    "def get_rho(nodes: Nodes, particles, periodic=False):\n",
    "    \"\"\"\n",
    "    Obtains rho value in the nodes using 1-order weighting\n",
    "    params:\n",
    "    nodes: spatial grid of nodes\n",
    "    particles_tpl: set or tuple of sets of physical macroparticles\n",
    "    periodic: defines boundary conditions\n",
    "    \"\"\"\n",
    "    conc = np.zeros(nodes.length, dtype=np.double)\n",
    "\n",
    "    x_j = np.floor(particles.x).astype(int)\n",
    "    x_jplus1 = x_j + 1\n",
    "\n",
    "    left = particles.concentration * (x_jplus1 - particles.x)\n",
    "    right = particles.concentration * (particles.x - x_j)\n",
    "\n",
    "    np.add.at(conc, x_j, left)\n",
    "    np.add.at(conc, x_jplus1, right)\n",
    "\n",
    "    if periodic:\n",
    "        np.add.at(conc, np.where(x_j == 0)[0][-1], left[x_j == 0])\n",
    "        np.add.at(conc, np.where(x_jplus1 == nodes.length - 1)[0][0], right[x_jplus1 == nodes.length - 1])\n",
    "\n",
    "    if particles.q > 0:\n",
    "        nodes.conc_i += conc\n",
    "    else:\n",
    "        nodes.conc_e += conc\n",
    "\n",
    "    rho = conc * particles.q\n",
    "    np.copyto(nodes.rho, nodes.rho + rho, where=rho != 0)"
   ]
  }
 ],
 "metadata": {
  "kernelspec": {
   "display_name": ".venv",
   "language": "python",
   "name": "python3"
  },
  "language_info": {
   "codemirror_mode": {
    "name": "ipython",
    "version": 3
   },
   "file_extension": ".py",
   "mimetype": "text/x-python",
   "name": "python",
   "nbconvert_exporter": "python",
   "pygments_lexer": "ipython3",
   "version": "3.9.0"
  },
  "orig_nbformat": 4
 },
 "nbformat": 4,
 "nbformat_minor": 2
}
