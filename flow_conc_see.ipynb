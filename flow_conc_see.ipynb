{
 "cells": [
  {
   "cell_type": "code",
   "execution_count": 1,
   "metadata": {},
   "outputs": [],
   "source": [
    "from plasma_classes import *\n",
    "from plasma_utils import *\n",
    "from matplotlib import pyplot as plt\n",
    "from matplotlib import animation\n",
    "from tqdm import tqdm"
   ]
  },
  {
   "cell_type": "code",
   "execution_count": 2,
   "metadata": {},
   "outputs": [],
   "source": [
    "conc_ion_fluxes = []\n",
    "conc_electron_fluxes = []\n",
    "conc_sum_fluxes = []\n",
    "conc_kinetic_history = []\n",
    "conc_electric_history = []\n",
    "conc_summ_history = []"
   ]
  },
  {
   "cell_type": "code",
   "execution_count": 3,
   "metadata": {},
   "outputs": [],
   "source": [
    "concentrations = []"
   ]
  },
  {
   "cell_type": "code",
   "execution_count": 4,
   "metadata": {},
   "outputs": [],
   "source": [
    "conc_k = np.linspace(0.05, 1, 20)"
   ]
  },
  {
   "cell_type": "code",
   "execution_count": 5,
   "metadata": {},
   "outputs": [
    {
     "name": "stderr",
     "output_type": "stream",
     "text": [
      "  6%|▌         | 2823/50000 [01:18<21:58, 35.78it/s]\n"
     ]
    },
    {
     "ename": "KeyboardInterrupt",
     "evalue": "",
     "output_type": "error",
     "traceback": [
      "\u001b[1;31m---------------------------------------------------------------------------\u001b[0m",
      "\u001b[1;31mKeyboardInterrupt\u001b[0m                         Traceback (most recent call last)",
      "Cell \u001b[1;32mIn[5], line 60\u001b[0m\n\u001b[0;32m     58\u001b[0m nodes\u001b[39m.\u001b[39mrho \u001b[39m*\u001b[39m\u001b[39m=\u001b[39m \u001b[39m0\u001b[39m\n\u001b[0;32m     59\u001b[0m energy_dict \u001b[39m=\u001b[39m {\u001b[39m\"\u001b[39m\u001b[39melectric\u001b[39m\u001b[39m\"\u001b[39m: [], \u001b[39m\"\u001b[39m\u001b[39mkinetic\u001b[39m\u001b[39m\"\u001b[39m: [], \u001b[39m\"\u001b[39m\u001b[39msumm\u001b[39m\u001b[39m\"\u001b[39m: [], \u001b[39m\"\u001b[39m\u001b[39mh\u001b[39m\u001b[39m\"\u001b[39m: h, \u001b[39m\"\u001b[39m\u001b[39mtau\u001b[39m\u001b[39m\"\u001b[39m: tau}\n\u001b[1;32m---> 60\u001b[0m account_walls(electrons, walls, SEE\u001b[39m=\u001b[39;49msee_dict, Energy\u001b[39m=\u001b[39;49menergy_dict, nodes\u001b[39m=\u001b[39;49mnodes)\n\u001b[0;32m     61\u001b[0m account_walls(ions, walls, Energy\u001b[39m=\u001b[39menergy_dict, nodes\u001b[39m=\u001b[39mnodes)\n\u001b[0;32m     62\u001b[0m get_rho(nodes, electrons)\n",
      "File \u001b[1;32mc:\\Users\\setup\\Desktop\\PlasmaPython\\plasma_utils.py:285\u001b[0m, in \u001b[0;36maccount_walls\u001b[1;34m(particles, walls, SEE, Energy, nodes)\u001b[0m\n\u001b[0;32m    281\u001b[0m SEE_success \u001b[39m=\u001b[39m \u001b[39mFalse\u001b[39;00m\n\u001b[0;32m    283\u001b[0m \u001b[39mif\u001b[39;00m SEE \u001b[39mis\u001b[39;00m \u001b[39mnot\u001b[39;00m \u001b[39mNone\u001b[39;00m:\n\u001b[0;32m    284\u001b[0m     \u001b[39m# Step 1: Discern particles capable of generating secondary electrons\u001b[39;00m\n\u001b[1;32m--> 285\u001b[0m     particles\u001b[39m.\u001b[39;49mdenormalise(SEE[\u001b[39m\"\u001b[39;49m\u001b[39mh\u001b[39;49m\u001b[39m\"\u001b[39;49m], SEE[\u001b[39m\"\u001b[39;49m\u001b[39mtau\u001b[39;49m\u001b[39m\"\u001b[39;49m])\n\u001b[0;32m    286\u001b[0m     energy \u001b[39m=\u001b[39m \u001b[39m0.5\u001b[39m \u001b[39m*\u001b[39m particles\u001b[39m.\u001b[39mm \u001b[39m*\u001b[39m particles\u001b[39m.\u001b[39mv \u001b[39m*\u001b[39m\u001b[39m*\u001b[39m \u001b[39m2\u001b[39m\n\u001b[0;32m    287\u001b[0m     particles\u001b[39m.\u001b[39mnormalise(SEE[\u001b[39m\"\u001b[39m\u001b[39mh\u001b[39m\u001b[39m\"\u001b[39m], SEE[\u001b[39m\"\u001b[39m\u001b[39mtau\u001b[39m\u001b[39m\"\u001b[39m])\n",
      "File \u001b[1;32mc:\\Users\\setup\\Desktop\\PlasmaPython\\plasma_classes.py:37\u001b[0m, in \u001b[0;36mParticles.denormalise\u001b[1;34m(self, h, tau)\u001b[0m\n\u001b[0;32m     35\u001b[0m \u001b[39mdef\u001b[39;00m \u001b[39mdenormalise\u001b[39m(\u001b[39mself\u001b[39m, h: \u001b[39mfloat\u001b[39m, tau: \u001b[39mfloat\u001b[39m):\n\u001b[0;32m     36\u001b[0m     \u001b[39mif\u001b[39;00m \u001b[39mself\u001b[39m\u001b[39m.\u001b[39mnormalised:\n\u001b[1;32m---> 37\u001b[0m         \u001b[39mself\u001b[39m\u001b[39m.\u001b[39mx \u001b[39m=\u001b[39m \u001b[39mself\u001b[39;49m\u001b[39m.\u001b[39;49mx\u001b[39m*\u001b[39;49mh\n\u001b[0;32m     38\u001b[0m         \u001b[39mself\u001b[39m\u001b[39m.\u001b[39mv \u001b[39m=\u001b[39m \u001b[39mself\u001b[39m\u001b[39m.\u001b[39mv\u001b[39m*\u001b[39mh\u001b[39m/\u001b[39mtau\n\u001b[0;32m     39\u001b[0m         \u001b[39mself\u001b[39m\u001b[39m.\u001b[39mnormalised \u001b[39m=\u001b[39m \u001b[39mFalse\u001b[39;00m\n",
      "\u001b[1;31mKeyboardInterrupt\u001b[0m: "
     ]
    }
   ],
   "source": [
    "for i in range(len(conc_k)):\n",
    "    L = 1e-2\n",
    "    N_x = 200\n",
    "    N_p = 10000\n",
    "    h = L/N_x\n",
    "    tau = 2e-13\n",
    "    n0 = 1e17*conc_k[i]\n",
    "    concentrations.append(n0)\n",
    "    n1 = n0*N_x/N_p\n",
    "    q = 1.60217e-19\n",
    "    m_e = 9.1093837e-31\n",
    "    m_i = 1.672e-27*131\n",
    "    epsilon = 8.85e-12\n",
    "    T_e = 11600*20\n",
    "    #temps.append(T_e)\n",
    "    T_i = 600\n",
    "    k_b = 1.38e-23\n",
    "    v_t_e = math.sqrt(3*k_b*T_e/m_e)\n",
    "    vmin_e = -3*v_t_e\n",
    "    vmax_e = 3*v_t_e\n",
    "    v_t_i = math.sqrt(3*k_b*T_i/m_i)\n",
    "    vmin_i = -3*v_t_i\n",
    "    vmax_i = 3*v_t_i\n",
    "    ions = Particles(N_p, n1, q, m_i)\n",
    "    electrons = Particles(N_p, n1, -q, m_e)\n",
    "    nodes = Nodes(N_x)\n",
    "    left_wall = Wall(0, L/10, 0, h, \"left\")\n",
    "    right_wall = Wall(9*L/10, L, 0, h, \"right\")\n",
    "    walls = (left_wall, right_wall)\n",
    "\n",
    "    set_homogeneous(electrons, left_wall.right*h, right_wall.left*h)\n",
    "    set_homogeneous(ions, left_wall.right*h, right_wall.left*h)\n",
    "    set_distr(electrons, Maxwell(T_e, k_b, m_e), vmin_e, vmax_e, 1000)\n",
    "    set_distr(ions, Maxwell(T_i, k_b, m_i), vmin_i, vmax_i, 1000)\n",
    "    electrons.normalise(h, tau)\n",
    "    ions.normalise(h, tau)\n",
    "    get_rho(nodes, electrons)\n",
    "    get_rho(nodes, ions)\n",
    "    calc_fields(nodes, h, epsilon)\n",
    "    accel(electrons, nodes, L, h, tau, zerostep=True)\n",
    "    accel(ions, nodes, L, h, tau, zerostep=True)\n",
    "    n = 50000\n",
    "    \n",
    "    eV = 11600\n",
    "    E1_factor = 1.60218e-19\n",
    "    E1 = 18.3*E1_factor\n",
    "    alpha = 0.62\n",
    "    see_dict = {\"E1\": E1, \"alpha\": alpha, \"h\": h, \"tau\": tau}\n",
    "\n",
    "    for t in tqdm(range(n)):\n",
    "        try:\n",
    "            move(electrons, nodes, consistency=False)\n",
    "            move(ions, nodes, consistency=False)\n",
    "        except Exception:\n",
    "            print(\"number of iteration: \", t)\n",
    "            break\n",
    "\n",
    "        nodes.rho *= 0\n",
    "        energy_dict = {\"electric\": [], \"kinetic\": [], \"summ\": [], \"h\": h, \"tau\": tau}\n",
    "        account_walls(electrons, walls, SEE=see_dict, Energy=energy_dict, nodes=nodes)\n",
    "        account_walls(ions, walls, Energy=energy_dict, nodes=nodes)\n",
    "        get_rho(nodes, electrons)\n",
    "        get_rho(nodes, ions)\n",
    "        for wall in walls:\n",
    "            for particles in wall.particles_lst:\n",
    "                get_rho(nodes, particles)\n",
    "        \n",
    "        calc_fields(nodes, h, epsilon, periodic=True)\n",
    "        conc_electric_history.append(sum(energy_dict[\"electric\"]))\n",
    "        accel(electrons, nodes, L, h, tau)\n",
    "        accel(ions, nodes, L, h, tau)\n",
    "        conc_kinetic_history.append(sum(energy_dict[\"kinetic\"]))\n",
    "\n",
    "    for i in range(n):\n",
    "        conc_summ_history.append(conc_kinetic_history[i] + conc_electric_history[i])\n",
    "\n",
    "    conc_electron_fluxes.append(N_p-electrons.n_macro)\n",
    "    conc_ion_fluxes.append(N_p-ions.n_macro)\n",
    "        "
   ]
  },
  {
   "cell_type": "code",
   "execution_count": 6,
   "metadata": {},
   "outputs": [],
   "source": [
    "conc_electron_fluxes = np.array(conc_electron_fluxes)\n",
    "conc_ion_fluxes = np.array(conc_ion_fluxes)"
   ]
  },
  {
   "cell_type": "code",
   "execution_count": 7,
   "metadata": {},
   "outputs": [],
   "source": [
    "conc_electric_history = np.array(conc_electric_history)\n",
    "conc_kinetic_history = np.array(conc_kinetic_history)\n",
    "conc_summ_history = np.array(conc_summ_history)"
   ]
  },
  {
   "cell_type": "code",
   "execution_count": 8,
   "metadata": {},
   "outputs": [],
   "source": [
    "conc_electric_history = conc_electric_history.reshape(20, 15000)\n",
    "conc_kinetic_history = conc_kinetic_history.reshape(20, 15000)\n",
    "conc_summ_history = conc_summ_history.reshape(20, 15000)"
   ]
  },
  {
   "cell_type": "code",
   "execution_count": 17,
   "metadata": {},
   "outputs": [],
   "source": [
    "conc_electric_flux = [np.mean(conc_electric_history[i]) for i in range(9)]\n",
    "conc_kinetic_flux = np.array([np.mean(conc_kinetic_history[i]) for i in range(9)])\n",
    "conc_summ_flux = [np.mean(conc_summ_history[i]) for i in range(9)]"
   ]
  },
  {
   "cell_type": "code",
   "execution_count": 10,
   "metadata": {},
   "outputs": [],
   "source": [
    "concentrations = np.array(concentrations)"
   ]
  },
  {
   "cell_type": "code",
   "execution_count": 16,
   "metadata": {},
   "outputs": [
    {
     "data": {
      "text/plain": [
       "Text(0.5, 1.0, 'Зависимость потоков энергии от концентрации плазмы')"
      ]
     },
     "execution_count": 16,
     "metadata": {},
     "output_type": "execute_result"
    },
    {
     "data": {
      "image/png": "[encoded data removed]",
      "text/plain": [
       "<Figure size 640x480 with 1 Axes>"
      ]
     },
     "metadata": {},
     "output_type": "display_data"
    }
   ],
   "source": [
    "#plt.scatter(concentrations, conc_electric_flux/conc_electric_flux[0], label=\"electric\")\n",
    "plt.scatter(concentrations, conc_kinetic_flux/conc_kinetic_flux[0], label=\"kinetic\")\n",
    "#plt.scatter(concentrations, conc_summ_flux/conc_summ_flux[0], label=\"summ\")\n",
    "plt.grid()\n",
    "plt.xlabel(r\"$n, м^{-3}$\")\n",
    "plt.ylabel(f\"$E/E_0$\")\n",
    "plt.title(\"Зависимость потока энергии от концентрации плазмы\")"
   ]
  },
  {
   "cell_type": "code",
   "execution_count": 12,
   "metadata": {},
   "outputs": [
    {
     "data": {
      "text/plain": [
       "Text(0.5, 1.0, 'Зависимость потоков частиц от концентрации плазмы')"
      ]
     },
     "execution_count": 12,
     "metadata": {},
     "output_type": "execute_result"
    },
    {
     "data": {
      "image/png": "[encoded data removed]",
      "text/plain": [
       "<Figure size 640x480 with 1 Axes>"
      ]
     },
     "metadata": {},
     "output_type": "display_data"
    }
   ],
   "source": [
    "plt.scatter(concentrations, conc_electron_fluxes/conc_electron_fluxes[-1], label=\"электроны\")\n",
    "plt.scatter(concentrations, conc_ion_fluxes/conc_ion_fluxes[-1], label=\"ионы\")\n",
    "plt.legend()\n",
    "plt.grid()\n",
    "plt.xlabel(r\"$n, м^{-3}$\")\n",
    "plt.ylabel(f\"$F/F_0$\")\n",
    "plt.title(\"Зависимость потоков частиц от концентрации плазмы\")"
   ]
  },
  {
   "cell_type": "code",
   "execution_count": 20,
   "metadata": {},
   "outputs": [],
   "source": [
    "import os"
   ]
  },
  {
   "cell_type": "code",
   "execution_count": 22,
   "metadata": {},
   "outputs": [],
   "source": [
    "def save_array_to_file(np_array, filename):\n",
    "    with open(filename, 'w') as f:\n",
    "        for float_value in np_array:\n",
    "            f.write(f\"{float_value}\\n\")\n",
    "\n",
    "def read_array_from_file(filename):\n",
    "    if not os.path.exists(filename):\n",
    "        raise FileNotFoundError(f\"{filename} not found\")\n",
    "\n",
    "    float_list = []\n",
    "    with open(filename, 'r') as f:\n",
    "        for line in f:\n",
    "            float_list.append(float(line.strip()))\n",
    "\n",
    "    return np.array(float_list)"
   ]
  },
  {
   "cell_type": "code",
   "execution_count": 23,
   "metadata": {},
   "outputs": [],
   "source": [
    "save_array_to_file(conc_kinetic_flux, \"conc_kinetic_see\")\n",
    "save_array_to_file(concentrations, \"concentrations_see\")\n",
    "save_array_to_file(conc_electron_fluxes, \"conc_electron_fluxes_see\")\n",
    "save_array_to_file(conc_ion_fluxes, \"conc_ion_fluxes_see\")\n"
   ]
  },
  {
   "cell_type": "code",
   "execution_count": null,
   "metadata": {},
   "outputs": [],
   "source": []
  }
 ],
 "metadata": {
  "kernelspec": {
   "display_name": ".venv",
   "language": "python",
   "name": "python3"
  },
  "language_info": {
   "codemirror_mode": {
    "name": "ipython",
    "version": 3
   },
   "file_extension": ".py",
   "mimetype": "text/x-python",
   "name": "python",
   "nbconvert_exporter": "python",
   "pygments_lexer": "ipython3",
   "version": "3.9.0"
  },
  "orig_nbformat": 4
 },
 "nbformat": 4,
 "nbformat_minor": 2
}
