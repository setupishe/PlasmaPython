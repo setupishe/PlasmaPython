{
 "cells": [
  {
   "cell_type": "code",
   "execution_count": 1,
   "metadata": {},
   "outputs": [],
   "source": [
    "from plasma_classes import *\n",
    "from plasma_utils import *\n",
    "from matplotlib import pyplot as plt\n",
    "from matplotlib import animation\n",
    "from tqdm import tqdm"
   ]
  },
  {
   "cell_type": "code",
   "execution_count": 2,
   "metadata": {},
   "outputs": [],
   "source": [
    "temp_ion_fluxes = []\n",
    "temp_electron_fluxes = []\n",
    "temp_sum_fluxes = []\n",
    "temp_kinetic_history = []\n",
    "temp_electric_history = []\n",
    "temp_summ_history = []"
   ]
  },
  {
   "cell_type": "code",
   "execution_count": 3,
   "metadata": {},
   "outputs": [],
   "source": [
    "temps = []"
   ]
  },
  {
   "cell_type": "code",
   "execution_count": null,
   "metadata": {},
   "outputs": [],
   "source": []
  },
  {
   "cell_type": "code",
   "execution_count": 4,
   "metadata": {},
   "outputs": [
    {
     "name": "stderr",
     "output_type": "stream",
     "text": [
      "  4%|▍         | 1996/50000 [00:56<22:29, 35.58it/s]\n"
     ]
    },
    {
     "ename": "KeyboardInterrupt",
     "evalue": "",
     "output_type": "error",
     "traceback": [
      "\u001b[1;31m---------------------------------------------------------------------------\u001b[0m",
      "\u001b[1;31mKeyboardInterrupt\u001b[0m                         Traceback (most recent call last)",
      "Cell \u001b[1;32mIn[4], line 72\u001b[0m\n\u001b[0;32m     70\u001b[0m     temp_electric_history\u001b[39m.\u001b[39mappend(\u001b[39msum\u001b[39m(energy_dict[\u001b[39m\"\u001b[39m\u001b[39melectric\u001b[39m\u001b[39m\"\u001b[39m]))\n\u001b[0;32m     71\u001b[0m     accel(electrons, nodes, L, h, tau)\n\u001b[1;32m---> 72\u001b[0m     accel(ions, nodes, L, h, tau)\n\u001b[0;32m     73\u001b[0m     temp_kinetic_history\u001b[39m.\u001b[39mappend(\u001b[39msum\u001b[39m(energy_dict[\u001b[39m\"\u001b[39m\u001b[39mkinetic\u001b[39m\u001b[39m\"\u001b[39m]))\n\u001b[0;32m     75\u001b[0m \u001b[39mfor\u001b[39;00m i \u001b[39min\u001b[39;00m \u001b[39mrange\u001b[39m(n):\n",
      "File \u001b[1;32mc:\\Users\\setup\\Desktop\\PlasmaPython\\plasma_utils.py:114\u001b[0m, in \u001b[0;36maccel\u001b[1;34m(particles, nodes, L, h, tau, zerostep)\u001b[0m\n\u001b[0;32m    102\u001b[0m \u001b[39m\u001b[39m\u001b[39m\"\"\" \u001b[39;00m\n\u001b[0;32m    103\u001b[0m \u001b[39mCalculates velocities using weighting electric field and leapfrog method\u001b[39;00m\n\u001b[0;32m    104\u001b[0m \u001b[39mAll calculations are performed using normalized values\u001b[39;00m\n\u001b[1;32m   (...)\u001b[0m\n\u001b[0;32m    111\u001b[0m \u001b[39mzerostep: if True, calculates velocity on -tau/2 step\u001b[39;00m\n\u001b[0;32m    112\u001b[0m \u001b[39m\"\"\"\u001b[39;00m\n\u001b[0;32m    113\u001b[0m \u001b[39mfor\u001b[39;00m i \u001b[39min\u001b[39;00m \u001b[39mrange\u001b[39m(particles\u001b[39m.\u001b[39mn_macro):\n\u001b[1;32m--> 114\u001b[0m     E \u001b[39m=\u001b[39m weight_field_value(particles\u001b[39m.\u001b[39;49mx[i], nodes\u001b[39m.\u001b[39;49mE)\n\u001b[0;32m    115\u001b[0m     E \u001b[39m=\u001b[39m (particles\u001b[39m.\u001b[39mq\u001b[39m*\u001b[39mE\u001b[39m*\u001b[39m(tau\u001b[39m*\u001b[39m\u001b[39m*\u001b[39m\u001b[39m2\u001b[39m))\u001b[39m/\u001b[39m(particles\u001b[39m.\u001b[39mm\u001b[39m*\u001b[39mh)\n\u001b[0;32m    116\u001b[0m     \u001b[39mif\u001b[39;00m zerostep:\n",
      "File \u001b[1;32mc:\\Users\\setup\\Desktop\\PlasmaPython\\plasma_utils.py:130\u001b[0m, in \u001b[0;36mweight_field_value\u001b[1;34m(x, value_field)\u001b[0m\n\u001b[0;32m    128\u001b[0m x_jplus1 \u001b[39m=\u001b[39m x_j \u001b[39m+\u001b[39m \u001b[39m1\u001b[39m\n\u001b[0;32m    129\u001b[0m left \u001b[39m=\u001b[39m (x_jplus1 \u001b[39m-\u001b[39m x)\u001b[39m*\u001b[39mvalue_field[x_j]\n\u001b[1;32m--> 130\u001b[0m right \u001b[39m=\u001b[39m (x \u001b[39m-\u001b[39m x_j)\u001b[39m*\u001b[39mvalue_field[x_jplus1]\n\u001b[0;32m    131\u001b[0m res \u001b[39m=\u001b[39m left \u001b[39m+\u001b[39m right\n\u001b[0;32m    132\u001b[0m \u001b[39mreturn\u001b[39;00m res\n",
      "\u001b[1;31mKeyboardInterrupt\u001b[0m: "
     ]
    }
   ],
   "source": [
    "for i in range(1, 21):\n",
    "    \n",
    "    L = 1e-2\n",
    "    N_x = 200\n",
    "    N_p = 10000\n",
    "    h = L/N_x\n",
    "    tau = 2e-13\n",
    "    n0 = 1e17\n",
    "    #concentrations.append(n0)\n",
    "    n1 = n0*N_x/N_p\n",
    "    q = 1.60217e-19\n",
    "    m_e = 9.1093837e-31\n",
    "    m_i = 1.672e-27*131\n",
    "    epsilon = 8.85e-12\n",
    "    T_e = 11600*i\n",
    "    temps.append(T_e)\n",
    "    T_i = 600\n",
    "    k_b = 1.38e-23\n",
    "    v_t_e = math.sqrt(3*k_b*T_e/m_e)\n",
    "    vmin_e = -3*v_t_e\n",
    "    vmax_e = 3*v_t_e\n",
    "    v_t_i = math.sqrt(3*k_b*T_i/m_i)\n",
    "    vmin_i = -3*v_t_i\n",
    "    vmax_i = 3*v_t_i\n",
    "    ions = Particles(N_p, n1, q, m_i)\n",
    "    electrons = Particles(N_p, n1, -q, m_e)\n",
    "    nodes = Nodes(N_x)\n",
    "    left_wall = Wall(0, L/10, 0, h, \"left\")\n",
    "    right_wall = Wall(9*L/10, L, 0, h, \"right\")\n",
    "    walls = (left_wall, right_wall)\n",
    "\n",
    "    set_homogeneous(electrons, left_wall.right*h, right_wall.left*h)\n",
    "    set_homogeneous(ions, left_wall.right*h, right_wall.left*h)\n",
    "    set_distr(electrons, Maxwell(T_e, k_b, m_e), vmin_e, vmax_e, 1000)\n",
    "    set_distr(ions, Maxwell(T_i, k_b, m_i), vmin_i, vmax_i, 1000)\n",
    "    electrons.normalise(h, tau)\n",
    "    ions.normalise(h, tau)\n",
    "    get_rho(nodes, electrons)\n",
    "    get_rho(nodes, ions)\n",
    "    calc_fields(nodes, h, epsilon)\n",
    "    accel(electrons, nodes, L, h, tau, zerostep=True)\n",
    "    accel(ions, nodes, L, h, tau, zerostep=True)\n",
    "    n = 50000\n",
    "    \n",
    "    eV = 11600\n",
    "    E1_factor = 1.60218e-19\n",
    "    E1 = 18.3*E1_factor\n",
    "    alpha = 0.62\n",
    "    see_dict = {\"E1\": E1, \"alpha\": alpha, \"h\": h, \"tau\": tau}\n",
    "\n",
    "    for t in tqdm(range(n)):\n",
    "        try:\n",
    "            move(electrons, nodes, consistency=True)\n",
    "            move(ions, nodes, consistency=True)\n",
    "        except Exception:\n",
    "            print(\"number of iteration: \", t)\n",
    "            break\n",
    "\n",
    "        nodes.rho *= 0\n",
    "        energy_dict = {\"electric\": [], \"kinetic\": [], \"summ\": [], \"h\": h, \"tau\": tau}\n",
    "        account_walls(electrons, walls, SEE=see_dict, Energy=energy_dict, nodes=nodes)\n",
    "        account_walls(ions, walls, Energy=energy_dict, nodes=nodes)\n",
    "        get_rho(nodes, electrons)\n",
    "        get_rho(nodes, ions)\n",
    "        for wall in walls:\n",
    "            for particles in wall.particles_lst:\n",
    "                get_rho(nodes, particles)\n",
    "        \n",
    "        calc_fields(nodes, h, epsilon, periodic=True)\n",
    "        temp_electric_history.append(sum(energy_dict[\"electric\"]))\n",
    "        accel(electrons, nodes, L, h, tau)\n",
    "        accel(ions, nodes, L, h, tau)\n",
    "        temp_kinetic_history.append(sum(energy_dict[\"kinetic\"]))\n",
    "\n",
    "    for i in range(n):\n",
    "        temp_summ_history.append(temp_kinetic_history[i] + temp_electric_history[i])\n",
    "\n",
    "    temp_electron_fluxes.append(N_p-electrons.n_macro)\n",
    "    temp_ion_fluxes.append(N_p-ions.n_macro)\n",
    "        "
   ]
  },
  {
   "cell_type": "code",
   "execution_count": 5,
   "metadata": {},
   "outputs": [],
   "source": [
    "temp_electron_fluxes = np.array(temp_electron_fluxes)\n",
    "temp_ion_fluxes = np.array(temp_ion_fluxes)"
   ]
  },
  {
   "cell_type": "code",
   "execution_count": 6,
   "metadata": {},
   "outputs": [],
   "source": [
    "temp_electric_history = np.array(temp_electric_history)\n",
    "temp_kinetic_history = np.array(temp_kinetic_history)\n",
    "temp_summ_history = np.array(temp_summ_history)"
   ]
  },
  {
   "cell_type": "code",
   "execution_count": 7,
   "metadata": {},
   "outputs": [],
   "source": [
    "temp_electric_history = temp_electric_history.reshape(20, 15000)\n",
    "temp_kinetic_history = temp_kinetic_history.reshape(20, 15000)\n",
    "temp_summ_history = temp_summ_history.reshape(20, 15000)"
   ]
  },
  {
   "cell_type": "code",
   "execution_count": 18,
   "metadata": {},
   "outputs": [],
   "source": [
    "temp_electric_flux = [np.mean(temp_electric_history[i]) for i in range(10)]\n",
    "temp_kinetic_flux = np.array([np.mean(temp_kinetic_history[i]) for i in range(10)])\n",
    "temp_summ_flux = [np.mean(temp_summ_history[i]) for i in range(10)]"
   ]
  },
  {
   "cell_type": "code",
   "execution_count": 9,
   "metadata": {},
   "outputs": [],
   "source": [
    "temps = np.array(temps)"
   ]
  },
  {
   "cell_type": "code",
   "execution_count": 16,
   "metadata": {},
   "outputs": [
    {
     "data": {
      "text/plain": [
       "Text(0.5, 1.0, 'Зависимость потока энергии от температуры электронов')"
      ]
     },
     "execution_count": 16,
     "metadata": {},
     "output_type": "execute_result"
    },
    {
     "data": {
      "image/png": "[encoded data removed]",
      "text/plain": [
       "<Figure size 640x480 with 1 Axes>"
      ]
     },
     "metadata": {},
     "output_type": "display_data"
    }
   ],
   "source": [
    "#plt.scatter(temps/11600, temp_electric_flux/temp_electric_flux[0], label=\"electric\")\n",
    "plt.scatter(temps/11600, temp_kinetic_flux/temp_kinetic_flux[0], label=\"kinetic\")\n",
    "#plt.scatter(temps/11600, temp_summ_flux/temp_summ_flux[0], label=\"summ\")\n",
    "plt.grid()\n",
    "plt.xlabel(\"Te, эВ\")\n",
    "plt.ylabel(f\"$E/E_0$\")\n",
    "plt.title(\"Зависимость потока энергии от температуры электронов\")"
   ]
  },
  {
   "cell_type": "code",
   "execution_count": 11,
   "metadata": {},
   "outputs": [
    {
     "data": {
      "text/plain": [
       "Text(0.5, 1.0, 'Зависимость потоков частиц от температуры электронов')"
      ]
     },
     "execution_count": 11,
     "metadata": {},
     "output_type": "execute_result"
    },
    {
     "data": {
      "image/png": "[encoded data removed]",
      "text/plain": [
       "<Figure size 640x480 with 1 Axes>"
      ]
     },
     "metadata": {},
     "output_type": "display_data"
    }
   ],
   "source": [
    "plt.scatter(temps/11600, temp_electron_fluxes/temp_electron_fluxes[0], label=\"электроны\")\n",
    "plt.scatter(temps/11600, temp_ion_fluxes/temp_ion_fluxes[0], label=\"ионы\")\n",
    "plt.legend()\n",
    "plt.grid()\n",
    "plt.xlabel(\"Te, эВ\")\n",
    "plt.ylabel(f\"$F/F_0$\")\n",
    "plt.title(\"Зависимость потоков частиц от температуры электронов\")"
   ]
  },
  {
   "cell_type": "code",
   "execution_count": 19,
   "metadata": {},
   "outputs": [],
   "source": [
    "import os"
   ]
  },
  {
   "cell_type": "code",
   "execution_count": 20,
   "metadata": {},
   "outputs": [],
   "source": [
    "def save_array_to_file(np_array, filename):\n",
    "    with open(filename, 'w') as f:\n",
    "        for float_value in np_array:\n",
    "            f.write(f\"{float_value}\\n\")\n",
    "\n",
    "def read_array_from_file(filename):\n",
    "    if not os.path.exists(filename):\n",
    "        raise FileNotFoundError(f\"{filename} not found\")\n",
    "\n",
    "    float_list = []\n",
    "    with open(filename, 'r') as f:\n",
    "        for line in f:\n",
    "            float_list.append(float(line.strip()))\n",
    "\n",
    "    return np.array(float_list)"
   ]
  },
  {
   "cell_type": "code",
   "execution_count": 21,
   "metadata": {},
   "outputs": [],
   "source": [
    "save_array_to_file(temp_kinetic_flux, \"temp_kinetic_see\")\n",
    "save_array_to_file(temps, \"tempentrations_see\")\n",
    "save_array_to_file(temp_electron_fluxes, \"temp_electron_fluxes_see\")\n",
    "save_array_to_file(temp_ion_fluxes, \"temp_ion_fluxes_see\")\n"
   ]
  },
  {
   "cell_type": "code",
   "execution_count": null,
   "metadata": {},
   "outputs": [],
   "source": []
  }
 ],
 "metadata": {
  "kernelspec": {
   "display_name": ".venv",
   "language": "python",
   "name": "python3"
  },
  "language_info": {
   "codemirror_mode": {
    "name": "ipython",
    "version": 3
   },
   "file_extension": ".py",
   "mimetype": "text/x-python",
   "name": "python",
   "nbconvert_exporter": "python",
   "pygments_lexer": "ipython3",
   "version": "3.9.0"
  },
  "orig_nbformat": 4
 },
 "nbformat": 4,
 "nbformat_minor": 2
}
