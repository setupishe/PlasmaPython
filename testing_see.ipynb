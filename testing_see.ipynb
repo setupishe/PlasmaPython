{
 "cells": [
  {
   "cell_type": "code",
   "execution_count": 1,
   "metadata": {},
   "outputs": [],
   "source": [
    "from plasma_classes import *\n",
    "from plasma_utils import *\n",
    "import numpy as np\n",
    "from matplotlib import pyplot as plt\n",
    "import matplotlib.animation as animation\n",
    "from tqdm import tqdm"
   ]
  },
  {
   "cell_type": "code",
   "execution_count": null,
   "metadata": {},
   "outputs": [],
   "source": [
    "def account_walls(particles: Particles, walls: list[Wall], \n",
    "                  SEE=False):\n",
    "    \"\"\"\n",
    "    Process particles absorbtion into walls\n",
    "    args:\n",
    "    particles : sets of macroparticles\n",
    "    nodes: spatial grid of nodes\n",
    "    left: left wall\n",
    "    right: right wall\n",
    "    \"\"\"\n",
    "    for wall in walls:\n",
    "        absorbed_mask = (particles.x <= wall.right) & (particles.x >= wall.left)\n",
    "        params = (particles.concentration, particles.q, particles.m)\n",
    "\n",
    "        absorbed_particles = Particles(particles.n_macro, *params)\n",
    "        absorbed_particles.n_macro = np.sum(absorbed_mask)\n",
    "        absorbed_particles.x = np.random.uniform(wall.left, wall.right, absorbed_particles.n_macro)\n",
    "        wall.particles_lst.append(absorbed_particles)\n",
    "\n",
    "        particles.x = particles.x[~absorbed_mask].copy()\n",
    "        particles.v = particles.v[~absorbed_mask].copy()\n",
    "        particles.n_macro = len(particles.x)\n",
    "    \n",
    "\n",
    "        "
   ]
  },
  {
   "cell_type": "code",
   "execution_count": 5,
   "metadata": {},
   "outputs": [],
   "source": [
    "a = np.array([1, 2, 3, 4, 5])"
   ]
  },
  {
   "cell_type": "code",
   "execution_count": 2,
   "metadata": {},
   "outputs": [],
   "source": [
    "def test_no_particles_in_walls():\n",
    "    nodes = Nodes(10)\n",
    "    particles = Particles(n_macro=100, concentration=1.0, q=1.0, m=1.0)\n",
    "    left_wall = Wall(0.0, 0.5, 0)\n",
    "    right_wall = Wall(9.5, 10.0, 0)\n",
    "\n",
    "    particles.x = np.array([2.0, 3.0, 4.0, 5.0, 6.0])\n",
    "    particles.v = np.array([0.0, 0.0, 0.0, 0.0, 0.0])\n",
    "\n",
    "    account_walls(nodes, particles, left_wall, right_wall)\n",
    "\n",
    "    assert left_wall.number == 0\n",
    "    assert right_wall.number == 0\n",
    "    assert nodes.rho[0] == 0\n",
    "    assert nodes.rho[-1] == 0\n",
    "\n",
    "\n",
    "def test_particles_absorbed_by_left_wall():\n",
    "    nodes = Nodes(10)\n",
    "    particles = Particles(n_macro=100, concentration=1.0, q=1.0, m=1.0)\n",
    "    left_wall = Wall(0.0, 0.5, 0)\n",
    "    right_wall = Wall(9.5, 10.0, 0)\n",
    "\n",
    "    particles.x = np.array([-0.1, 0.2, 0.3, 0.4, 5.0])\n",
    "    particles.v = np.array([0.0, 0.0, 0.0, 0.0, 0.0])\n",
    "\n",
    "    account_walls(nodes, particles, left_wall, right_wall)\n",
    "\n",
    "    assert left_wall.number == 1\n",
    "    assert right_wall.number == 0\n",
    "    assert nodes.rho[0] == -1.0\n",
    "    assert nodes.rho[-1] == 0\n",
    "\n",
    "\n",
    "def test_particles_absorbed_by_right_wall():\n",
    "    nodes = Nodes(10)\n",
    "    particles = Particles(n_macro=100, concentration=1.0, q=1.0, m=1.0)\n",
    "    left_wall = Wall(0.0, 0.5, 0)\n",
    "    right_wall = Wall(9.5, 10.0, 0)\n",
    "\n",
    "    particles.x = np.array([0.5, 9.6, 9.7, 9.8, 10.1])\n",
    "    particles.v = np.array([0.0, 0.0, 0.0, 0.0, 0.0])\n",
    "\n",
    "    account_walls(nodes, particles, left_wall, right_wall)\n",
    "\n",
    "    assert left_wall.number == 0\n",
    "    assert right_wall.number == 1\n",
    "    assert nodes.rho[0] == 0\n",
    "    assert nodes.rho[-1] == -1.0\n",
    "\n",
    "\n",
    "def test_all_particles_absorbed():\n",
    "    nodes = Nodes(10)\n",
    "    particles = Particles(n_macro=100, concentration=1.0, q=1.0, m=1.0)\n",
    "    left_wall = Wall(0.0, 0.5, 0)\n",
    "    right_wall = Wall(9.5, 10.0, 0)\n",
    "\n",
    "\n",
    "def test_all_particles_absorbed():\n",
    "    nodes = Nodes(10)\n",
    "    particles = Particles(n_macro=100, concentration=1.0, q=1.0, m=1.0)\n",
    "    left_wall = Wall(left=0.0, right=0.5, number=0)\n",
    "    right_wall = Wall(left=9.5, right=10.0, number=0)\n",
    "\n",
    "    particles.x = np.array([-0.1, 0.2, 9.6, 9.7, 10])\n",
    "    particles.v = np.array([0.0, 0.0, 0.0, 0.0, 0.0])\n",
    "\n",
    "    account_walls(nodes, particles, left_wall, right_wall)\n",
    "\n",
    "    assert left_wall.number == 3\n",
    "    assert right_wall.number == 2\n",
    "    assert nodes.rho[0] == -3.0\n",
    "    assert nodes.rho[-1] == -2.0\n",
    "\n"
   ]
  },
  {
   "cell_type": "code",
   "execution_count": null,
   "metadata": {},
   "outputs": [],
   "source": [
    "test_no_particles_in_walls()\n",
    "test_particles_absorbed_by_left_wall()\n",
    "test_particles_absorbed_by_right_wall()\n",
    "test_all_particles_absorbed()\n"
   ]
  },
  {
   "cell_type": "code",
   "execution_count": 27,
   "metadata": {},
   "outputs": [
    {
     "ename": "ValueError",
     "evalue": "The truth value of an array with more than one element is ambiguous. Use a.any() or a.all()",
     "output_type": "error",
     "traceback": [
      "\u001b[1;31m---------------------------------------------------------------------------\u001b[0m",
      "\u001b[1;31mValueError\u001b[0m                                Traceback (most recent call last)",
      "Cell \u001b[1;32mIn[27], line 1\u001b[0m\n\u001b[1;32m----> 1\u001b[0m mask \u001b[39m=\u001b[39m a \u001b[39m>\u001b[39m \u001b[39m1\u001b[39m \u001b[39mand\u001b[39;00m a \u001b[39m<\u001b[39m \u001b[39m5\u001b[39m\n",
      "\u001b[1;31mValueError\u001b[0m: The truth value of an array with more than one element is ambiguous. Use a.any() or a.all()"
     ]
    }
   ],
   "source": [
    "mask = a > 1 and a < 5"
   ]
  },
  {
   "cell_type": "code",
   "execution_count": null,
   "metadata": {},
   "outputs": [],
   "source": [
    "mask"
   ]
  },
  {
   "cell_type": "code",
   "execution_count": 25,
   "metadata": {},
   "outputs": [],
   "source": [
    "joined_masks = mask1 | mask2"
   ]
  },
  {
   "cell_type": "code",
   "execution_count": 26,
   "metadata": {},
   "outputs": [
    {
     "data": {
      "text/plain": [
       "array([ True, False, False,  True,  True])"
      ]
     },
     "execution_count": 26,
     "metadata": {},
     "output_type": "execute_result"
    }
   ],
   "source": [
    "joined_masks"
   ]
  },
  {
   "cell_type": "code",
   "execution_count": 11,
   "metadata": {},
   "outputs": [
    {
     "data": {
      "text/plain": [
       "(array([2, 3, 4], dtype=int64),)"
      ]
     },
     "execution_count": 11,
     "metadata": {},
     "output_type": "execute_result"
    }
   ],
   "source": [
    "mask.nonzero()"
   ]
  }
 ],
 "metadata": {
  "kernelspec": {
   "display_name": ".venv",
   "language": "python",
   "name": "python3"
  },
  "language_info": {
   "codemirror_mode": {
    "name": "ipython",
    "version": 3
   },
   "file_extension": ".py",
   "mimetype": "text/x-python",
   "name": "python",
   "nbconvert_exporter": "python",
   "pygments_lexer": "ipython3",
   "version": "3.10.0"
  },
  "orig_nbformat": 4
 },
 "nbformat": 4,
 "nbformat_minor": 2
}
