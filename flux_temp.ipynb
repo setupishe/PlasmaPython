{
 "cells": [
  {
   "cell_type": "code",
   "execution_count": 7,
   "metadata": {},
   "outputs": [
    {
     "ename": "ModuleNotFoundError",
     "evalue": "No module named 'plasma_classes'",
     "output_type": "error",
     "traceback": [
      "\u001b[1;31m---------------------------------------------------------------------------\u001b[0m",
      "\u001b[1;31mModuleNotFoundError\u001b[0m                       Traceback (most recent call last)",
      "Cell \u001b[1;32mIn[7], line 1\u001b[0m\n\u001b[1;32m----> 1\u001b[0m \u001b[39mfrom\u001b[39;00m \u001b[39mplasma_classes\u001b[39;00m \u001b[39mimport\u001b[39;00m \u001b[39m*\u001b[39m\n\u001b[0;32m      2\u001b[0m \u001b[39mfrom\u001b[39;00m \u001b[39mplasma_utils\u001b[39;00m \u001b[39mimport\u001b[39;00m \u001b[39m*\u001b[39m\n\u001b[0;32m      3\u001b[0m \u001b[39mfrom\u001b[39;00m \u001b[39mmatplotlib\u001b[39;00m \u001b[39mimport\u001b[39;00m pyplot \u001b[39mas\u001b[39;00m plt\n",
      "\u001b[1;31mModuleNotFoundError\u001b[0m: No module named 'plasma_classes'"
     ]
    }
   ],
   "source": [
    "from plasma_classes import *\n",
    "from plasma_utils import *\n",
    "from matplotlib import pyplot as plt\n",
    "from matplotlib import animation\n",
    "from tqdm import tqdm\n",
    "import math"
   ]
  },
  {
   "cell_type": "code",
   "execution_count": 8,
   "metadata": {},
   "outputs": [],
   "source": [
    "def run_simulation(const_params, varying_params):\n",
    "    # Unpack constant parameters\n",
    "    L = const_params['L']\n",
    "    N_x = const_params['N_x']\n",
    "    N_p = const_params['N_p']\n",
    "    h = L / N_x\n",
    "    tau = const_params['tau']\n",
    "    n0 = const_params['n0']\n",
    "    n1 = n0 * N_x / N_p\n",
    "    q = const_params['q']\n",
    "    m_e = const_params['m_e']\n",
    "    m_i = const_params['m_i']\n",
    "    epsilon = const_params['epsilon']\n",
    "    T_i = const_params['T_i']\n",
    "    k_b = const_params['k_b']\n",
    "    \n",
    "    # Initialize empty lists to store results\n",
    "    temp_ion_fluxes = []\n",
    "    temp_electron_fluxes = []\n",
    "    temp_sum_fluxes = []\n",
    "    temps = []\n",
    "\n",
    "    temp_values = range(varying_params[\"temp_min\"], varying_params[\"temp_max\"], varying_params[\"temp_step\"])\n",
    "    # Loop over varying parameter values\n",
    "    for temp in temp_values:\n",
    "        T_e = temp\n",
    "        temps.append(T_e)\n",
    "        v_t_e = math.sqrt(3 * k_b * T_e / m_e)\n",
    "        vmin_e = -3 * v_t_e\n",
    "        vmax_e = 3 * v_t_e\n",
    "\n",
    "        # Create particles and nodes objects\n",
    "        ions = Particles(N_p, n1, q, m_i)\n",
    "        electrons = Particles(N_p, n1, -q, m_e)\n",
    "        nodes = Nodes(N_x)\n",
    "\n",
    "        # Set initial particle distributions\n",
    "        set_homogeneous(electrons, 0, L)\n",
    "        set_homogeneous(ions, 0, L)\n",
    "        set_distr(electrons, Maxwell(T_e, k_b, m_e), vmin_e, vmax_e, 1000)\n",
    "        set_distr(ions, Maxwell(T_i, k_b, m_i), -vmax_e, vmax_e, 1000)\n",
    "        electrons.normalise(h, tau)\n",
    "        ions.normalise(h, tau)\n",
    "\n",
    "        # Run simulation\n",
    "        n = varying_params['num_iterations']\n",
    "        for t in tqdm(range(n)):\n",
    "            try:\n",
    "                move(electrons, nodes, consistency=True)\n",
    "                move(ions, nodes, consistency=True)\n",
    "            except Exception:\n",
    "                print(\"number of iteration: \", t)\n",
    "                break\n",
    "\n",
    "            nodes.rho *= 0\n",
    "            account_walls(nodes, electrons, const_params['left_wall'], const_params['right_wall'])\n",
    "            account_walls(nodes, ions, const_params['left_wall'], const_params['right_wall'])\n",
    "            get_rho(nodes, electrons)\n",
    "            get_rho(nodes, ions)\n",
    "\n",
    "            calc_fields(nodes, h, epsilon, periodic=True)\n",
    "            accel(electrons, nodes, L, h, tau)\n",
    "            accel(ions, nodes, L, h, tau)\n",
    "\n",
    "            electrons.denormalise(h, tau)\n",
    "            ions.denormalise(h, tau)\n",
    "            electrons.normalise(h, tau)\n",
    "            ions.normalise(h, tau)\n",
    "\n",
    "        temp_electron_fluxes.append(N_p - electrons.n_macro)\n",
    "        temp_ion_fluxes.append(N_p - ions.n_macro)\n",
    "        \n",
    "    # Compute sum fluxes\n",
    "    for i in range(len(temps)):\n",
    "        temp_sum_fluxes.append(temp_electron_fluxes[i] + temp_ion_fluxes[i])\n",
    "\n",
    "    # Return results\n",
    "    return {'temp_values': temps,\n",
    "            'electron_fluxes': temp_electron_fluxes,\n",
    "            'ion_fluxes': temp_ion_fluxes,\n",
    "            'sum_fluxes': temp_sum_fluxes}\n"
   ]
  },
  {
   "cell_type": "code",
   "execution_count": 9,
   "metadata": {},
   "outputs": [
    {
     "ename": "NameError",
     "evalue": "name 'math' is not defined",
     "output_type": "error",
     "traceback": [
      "\u001b[1;31m---------------------------------------------------------------------------\u001b[0m",
      "\u001b[1;31mNameError\u001b[0m                                 Traceback (most recent call last)",
      "Cell \u001b[1;32mIn[9], line 9\u001b[0m\n\u001b[0;32m      6\u001b[0m temp_dict \u001b[39m=\u001b[39m {\u001b[39m\"\u001b[39m\u001b[39mtemp_min\u001b[39m\u001b[39m\"\u001b[39m: \u001b[39m11600\u001b[39m, \u001b[39m\"\u001b[39m\u001b[39mtemp_max\u001b[39m\u001b[39m\"\u001b[39m: \u001b[39m11600\u001b[39m\u001b[39m*\u001b[39m\u001b[39m2\u001b[39m, \u001b[39m\"\u001b[39m\u001b[39mtemp_step\u001b[39m\u001b[39m\"\u001b[39m: \u001b[39m11600\u001b[39m}\n\u001b[0;32m      8\u001b[0m \u001b[39m# Call the function and get the fluxes\u001b[39;00m\n\u001b[1;32m----> 9\u001b[0m temp_ion_fluxes, temp_electron_fluxes, temp_sum_fluxes \u001b[39m=\u001b[39m run_simulation(sim_params, temp_dict)\n",
      "Cell \u001b[1;32mIn[8], line 28\u001b[0m, in \u001b[0;36mrun_simulation\u001b[1;34m(const_params, varying_params)\u001b[0m\n\u001b[0;32m     26\u001b[0m T_e \u001b[39m=\u001b[39m temp\n\u001b[0;32m     27\u001b[0m temps\u001b[39m.\u001b[39mappend(T_e)\n\u001b[1;32m---> 28\u001b[0m v_t_e \u001b[39m=\u001b[39m math\u001b[39m.\u001b[39msqrt(\u001b[39m3\u001b[39m \u001b[39m*\u001b[39m k_b \u001b[39m*\u001b[39m T_e \u001b[39m/\u001b[39m m_e)\n\u001b[0;32m     29\u001b[0m vmin_e \u001b[39m=\u001b[39m \u001b[39m-\u001b[39m\u001b[39m3\u001b[39m \u001b[39m*\u001b[39m v_t_e\n\u001b[0;32m     30\u001b[0m vmax_e \u001b[39m=\u001b[39m \u001b[39m3\u001b[39m \u001b[39m*\u001b[39m v_t_e\n",
      "\u001b[1;31mNameError\u001b[0m: name 'math' is not defined"
     ]
    }
   ],
   "source": [
    "# Define the constant simulation parameters\n",
    "sim_params = {\"L\": 1e-2, \"N_x\": 200, \"N_p\": 5000, \"tau\": 1e-13, \"n0\": 1e17, \"q\": 1.60217e-19,\n",
    "              \"m_e\": 9.1093837e-31, \"m_i\": 1.672e-27, \"epsilon\": 8.85e-12, \"T_i\": 600, \"k_b\": 1.38e-23}\n",
    "\n",
    "# Define the varying temperature dictionary\n",
    "temp_dict = {\"temp_min\": 11600, \"temp_max\": 11600*2, \"temp_step\": 11600}\n",
    "\n",
    "# Call the function and get the fluxes\n",
    "temp_ion_fluxes, temp_electron_fluxes, temp_sum_fluxes = run_simulation(sim_params, temp_dict)\n"
   ]
  },
  {
   "cell_type": "code",
   "execution_count": null,
   "metadata": {},
   "outputs": [],
   "source": []
  }
 ],
 "metadata": {
  "kernelspec": {
   "display_name": ".venv",
   "language": "python",
   "name": "python3"
  },
  "language_info": {
   "codemirror_mode": {
    "name": "ipython",
    "version": 3
   },
   "file_extension": ".py",
   "mimetype": "text/x-python",
   "name": "python",
   "nbconvert_exporter": "python",
   "pygments_lexer": "ipython3",
   "version": "3.9.0"
  },
  "orig_nbformat": 4
 },
 "nbformat": 4,
 "nbformat_minor": 2
}
